{
 "cells": [
  {
   "cell_type": "markdown",
   "metadata": {},
   "source": [
    "# Definitions & Basic Operations"
   ]
  },
  {
   "cell_type": "markdown",
   "metadata": {},
   "source": [
    "**Dataframes:** a 2-dimensional data structure, which stores data in rows & columns\n",
    "\n",
    "**Series/ series object:** a one-dimensional array with labels (index), based on NumPy ndarray. \n",
    "\n",
    "**Ndrray?:** An n-dimensional data structure that contains a group of elements - more efficient than Python lists - allow for use of vectorisation rather than loops (higher performance)."
   ]
  },
  {
   "cell_type": "code",
   "execution_count": 1,
   "metadata": {},
   "outputs": [
    {
     "name": "stdout",
     "output_type": "stream",
     "text": [
      "1    a\n",
      "2    b\n",
      "dtype: object\n"
     ]
    }
   ],
   "source": [
    "import pandas as pd\n",
    "\n",
    "# I can create a pandas series from a dict. The keys are the indices.\n",
    "dict={1: \"a\", 2: \"b\"}\n",
    "dict1=pd.Series(dict)\n",
    "print(dict1)"
   ]
  },
  {
   "cell_type": "code",
   "execution_count": 3,
   "metadata": {},
   "outputs": [
    {
     "name": "stdout",
     "output_type": "stream",
     "text": [
      "0    1\n",
      "1    2\n",
      "2    3\n",
      "dtype: int64\n"
     ]
    }
   ],
   "source": [
    "# I can also create a series from a list. Indeces are created automatically.\n",
    "\n",
    "ls=[1,2,3]\n",
    "ls1=pd.Series(ls)\n",
    "print(ls1)"
   ]
  },
  {
   "cell_type": "code",
   "execution_count": 4,
   "metadata": {},
   "outputs": [
    {
     "name": "stdout",
     "output_type": "stream",
     "text": [
      "1    A\n",
      "2    B\n",
      "3    C\n",
      "dtype: object\n"
     ]
    }
   ],
   "source": [
    "# I can also create a series with indeces from scratch\n",
    "\n",
    "oneD = pd.Series([\"A\",\"B\",\"C\"], index=[1,2,3])\n",
    "print(oneD)"
   ]
  },
  {
   "cell_type": "code",
   "execution_count": 5,
   "metadata": {},
   "outputs": [
    {
     "data": {
      "text/plain": [
       "'A'"
      ]
     },
     "execution_count": 5,
     "metadata": {},
     "output_type": "execute_result"
    }
   ],
   "source": [
    "# I can access the data by index through loc\n",
    "\n",
    "oneD.loc[1]"
   ]
  },
  {
   "cell_type": "code",
   "execution_count": 6,
   "metadata": {},
   "outputs": [
    {
     "data": {
      "text/plain": [
       "1    A\n",
       "2    B\n",
       "dtype: object"
      ]
     },
     "execution_count": 6,
     "metadata": {},
     "output_type": "execute_result"
    }
   ],
   "source": [
    "oneD.loc[[1,2]]"
   ]
  },
  {
   "cell_type": "code",
   "execution_count": 7,
   "metadata": {},
   "outputs": [
    {
     "data": {
      "text/plain": [
       "'B'"
      ]
     },
     "execution_count": 7,
     "metadata": {},
     "output_type": "execute_result"
    }
   ],
   "source": [
    "# I can use iloc to access the data by integer based index position\n",
    "\n",
    "oneD.iloc[1]"
   ]
  },
  {
   "cell_type": "code",
   "execution_count": 11,
   "metadata": {},
   "outputs": [
    {
     "data": {
      "text/plain": [
       "True"
      ]
     },
     "execution_count": 11,
     "metadata": {},
     "output_type": "execute_result"
    }
   ],
   "source": [
    "# I can check whether an index is included in a series...\n",
    "\n",
    "1 in oneD"
   ]
  },
  {
   "cell_type": "code",
   "execution_count": 12,
   "metadata": {},
   "outputs": [
    {
     "data": {
      "text/plain": [
       "False"
      ]
     },
     "execution_count": 12,
     "metadata": {},
     "output_type": "execute_result"
    }
   ],
   "source": [
    "#... but not a value\n",
    "\n",
    "\"B\" in oneD"
   ]
  },
  {
   "cell_type": "code",
   "execution_count": 20,
   "metadata": {},
   "outputs": [
    {
     "name": "stdout",
     "output_type": "stream",
     "text": [
      "  Column A Column B\n",
      "1        A      NaN\n",
      "2        B        D\n",
      "3        C        E\n",
      "4      NaN        F\n",
      "5      NaN        G\n"
     ]
    }
   ],
   "source": [
    "# I can create a dataframe from scratch using a dictionary\n",
    "\n",
    "d={\"Column A\": pd.Series([\"A\",\"B\",\"C\"], index=[1,2,3]),\n",
    "    \"Column B\": pd. Series([\"D\", \"E\", \"F\", \"G\"], index=[2,3,4,5])}\n",
    "\n",
    "df=pd.DataFrame(d)\n",
    "print(df)"
   ]
  },
  {
   "cell_type": "code",
   "execution_count": 21,
   "metadata": {},
   "outputs": [
    {
     "name": "stdout",
     "output_type": "stream",
     "text": [
      "<class 'pandas.core.frame.DataFrame'>\n"
     ]
    }
   ],
   "source": [
    "print(type(df))"
   ]
  },
  {
   "cell_type": "code",
   "execution_count": 23,
   "metadata": {},
   "outputs": [
    {
     "data": {
      "text/plain": [
       "Int64Index([1, 2, 3, 4, 5], dtype='int64')"
      ]
     },
     "execution_count": 23,
     "metadata": {},
     "output_type": "execute_result"
    }
   ],
   "source": [
    "# Get index values\n",
    "\n",
    "df.index"
   ]
  },
  {
   "cell_type": "code",
   "execution_count": 24,
   "metadata": {},
   "outputs": [
    {
     "data": {
      "text/plain": [
       "Index(['Column A', 'Column B'], dtype='object')"
      ]
     },
     "execution_count": 24,
     "metadata": {},
     "output_type": "execute_result"
    }
   ],
   "source": [
    "# Get column names\n",
    "\n",
    "df.columns"
   ]
  },
  {
   "cell_type": "code",
   "execution_count": 29,
   "metadata": {},
   "outputs": [
    {
     "data": {
      "text/html": [
       "<div>\n",
       "<style scoped>\n",
       "    .dataframe tbody tr th:only-of-type {\n",
       "        vertical-align: middle;\n",
       "    }\n",
       "\n",
       "    .dataframe tbody tr th {\n",
       "        vertical-align: top;\n",
       "    }\n",
       "\n",
       "    .dataframe thead th {\n",
       "        text-align: right;\n",
       "    }\n",
       "</style>\n",
       "<table border=\"1\" class=\"dataframe\">\n",
       "  <thead>\n",
       "    <tr style=\"text-align: right;\">\n",
       "      <th></th>\n",
       "      <th>Column B</th>\n",
       "    </tr>\n",
       "  </thead>\n",
       "  <tbody>\n",
       "    <tr>\n",
       "      <th>1</th>\n",
       "      <td>NaN</td>\n",
       "    </tr>\n",
       "    <tr>\n",
       "      <th>2</th>\n",
       "      <td>D</td>\n",
       "    </tr>\n",
       "    <tr>\n",
       "      <th>3</th>\n",
       "      <td>E</td>\n",
       "    </tr>\n",
       "  </tbody>\n",
       "</table>\n",
       "</div>"
      ],
      "text/plain": [
       "  Column B\n",
       "1      NaN\n",
       "2        D\n",
       "3        E"
      ]
     },
     "execution_count": 29,
     "metadata": {},
     "output_type": "execute_result"
    }
   ],
   "source": [
    "# I can manipulate the dataframe to retain only a certain column/ index\n",
    "\n",
    "pd.DataFrame(df, index=[1,2,3], columns=[\"Column B\"])"
   ]
  },
  {
   "cell_type": "markdown",
   "metadata": {},
   "source": [
    "# Reading in Data"
   ]
  },
  {
   "cell_type": "markdown",
   "metadata": {},
   "source": [
    "## Read in csv"
   ]
  },
  {
   "cell_type": "code",
   "execution_count": 32,
   "metadata": {},
   "outputs": [
    {
     "data": {
      "text/html": [
       "<div>\n",
       "<style scoped>\n",
       "    .dataframe tbody tr th:only-of-type {\n",
       "        vertical-align: middle;\n",
       "    }\n",
       "\n",
       "    .dataframe tbody tr th {\n",
       "        vertical-align: top;\n",
       "    }\n",
       "\n",
       "    .dataframe thead th {\n",
       "        text-align: right;\n",
       "    }\n",
       "</style>\n",
       "<table border=\"1\" class=\"dataframe\">\n",
       "  <thead>\n",
       "    <tr style=\"text-align: right;\">\n",
       "      <th></th>\n",
       "      <th>Test 1</th>\n",
       "      <th>Test 2</th>\n",
       "    </tr>\n",
       "  </thead>\n",
       "  <tbody>\n",
       "    <tr>\n",
       "      <th>0</th>\n",
       "      <td>1</td>\n",
       "      <td>500</td>\n",
       "    </tr>\n",
       "    <tr>\n",
       "      <th>1</th>\n",
       "      <td>2</td>\n",
       "      <td>600</td>\n",
       "    </tr>\n",
       "    <tr>\n",
       "      <th>2</th>\n",
       "      <td>3</td>\n",
       "      <td>700</td>\n",
       "    </tr>\n",
       "    <tr>\n",
       "      <th>3</th>\n",
       "      <td>4</td>\n",
       "      <td>800</td>\n",
       "    </tr>\n",
       "    <tr>\n",
       "      <th>4</th>\n",
       "      <td>5</td>\n",
       "      <td>900</td>\n",
       "    </tr>\n",
       "  </tbody>\n",
       "</table>\n",
       "</div>"
      ],
      "text/plain": [
       "   Test 1  Test 2\n",
       "0       1     500\n",
       "1       2     600\n",
       "2       3     700\n",
       "3       4     800\n",
       "4       5     900"
      ]
     },
     "execution_count": 32,
     "metadata": {},
     "output_type": "execute_result"
    }
   ],
   "source": [
    "file=\"C:\\\\Users\\\\franz\\\\Documents\\\\Git Repository\\\\data-science-training\\\\test_csv.csv\" #Note,\n",
    "# need to enter two backslashes\n",
    "\n",
    "df=pd.read_csv(file)\n",
    "\n",
    "df.head()"
   ]
  },
  {
   "cell_type": "code",
   "execution_count": 42,
   "metadata": {},
   "outputs": [
    {
     "data": {
      "text/plain": [
       "'C:\\\\Users\\\\franz\\\\Documents\\\\Git Repository\\\\data-science-training'"
      ]
     },
     "execution_count": 42,
     "metadata": {},
     "output_type": "execute_result"
    }
   ],
   "source": [
    "# Sometimes, source data is not arranged in separate columns. If the separator is not a \",\", then\n",
    "# need to specify separator\n",
    "\n",
    "file=\"test_csv 2.csv\" #My file is saved in my working directory, which is in the project folder.\n",
    "\n",
    "# I can check which folder I'm in like this:\n",
    "\n",
    "import os\n",
    "os.getcwd()\n",
    "\n",
    "# Why not specify the whole path folder? I want to push the code to Github, so if I were t pull it\n",
    "# onto another machine, then I would have to change the directory. This way, providing the input file\n",
    "# is saved in my project folder, I can read it in without having to update the directory"
   ]
  },
  {
   "cell_type": "code",
   "execution_count": 41,
   "metadata": {},
   "outputs": [
    {
     "name": "stdout",
     "output_type": "stream",
     "text": [
      "  Test 1; Test 2\n",
      "0         1; 500\n",
      "1         2; 600\n",
      "2         3; 700\n"
     ]
    }
   ],
   "source": [
    "df=pd.read_csv(file)\n",
    "\n",
    "print(df)"
   ]
  },
  {
   "cell_type": "code",
   "execution_count": 35,
   "metadata": {},
   "outputs": [
    {
     "name": "stdout",
     "output_type": "stream",
     "text": [
      "   Test 1   Test 2\n",
      "0       1      500\n",
      "1       2      600\n",
      "2       3      700\n"
     ]
    }
   ],
   "source": [
    "df=pd.read_csv(file, sep=\";\")\n",
    "\n",
    "print(df)"
   ]
  },
  {
   "cell_type": "markdown",
   "metadata": {},
   "source": [
    "## Read in txt files\n",
    "\n",
    "Also use read_csv & specify separator like above"
   ]
  },
  {
   "cell_type": "markdown",
   "metadata": {},
   "source": [
    "## Read in Excel files"
   ]
  },
  {
   "cell_type": "code",
   "execution_count": 45,
   "metadata": {},
   "outputs": [
    {
     "name": "stdout",
     "output_type": "stream",
     "text": [
      "     MV  INDUS   NOX     RM  TAX    PT  LSTAT  Unnamed: 7  Unnamed: 8  \\\n",
      "0  24.0   2.31  53.8  6.575  296  15.3   4.98         NaN         NaN   \n",
      "1  21.6   7.07  46.9  6.421  242  17.8   9.14         NaN         NaN   \n",
      "2  34.7   7.07  46.9  7.185  242  17.8   4.03         NaN         NaN   \n",
      "3  33.4   2.18  45.8  6.998  222  18.7   2.94         NaN         NaN   \n",
      "4  36.2   2.18  45.8  7.147  222  18.7   5.33         NaN         NaN   \n",
      "\n",
      "                         Unnamed: 9  \n",
      "0    Subset of Boston housing tract  \n",
      "1    data of Harrison and Rubinfeld  \n",
      "2    (1978).  Each case is one U.S.  \n",
      "3  Census tract in the Boston area.  \n",
      "4                               NaN  \n"
     ]
    }
   ],
   "source": [
    "df2=pd.read_excel(\"boston1.xls\")\n",
    "\n",
    "print(df2.head())"
   ]
  },
  {
   "cell_type": "code",
   "execution_count": 47,
   "metadata": {},
   "outputs": [
    {
     "name": "stdout",
     "output_type": "stream",
     "text": [
      "['Sheet1', 'Sheet2']\n"
     ]
    }
   ],
   "source": [
    "# This file has multiple tabs. To load a specific tab, do the following:\n",
    "\n",
    "# Load the Excel file\n",
    "\n",
    "f=pd.ExcelFile(\"boston1.xls\")\n",
    "\n",
    "# Print the tab names\n",
    "\n",
    "print(f.sheet_names)"
   ]
  },
  {
   "cell_type": "code",
   "execution_count": 49,
   "metadata": {},
   "outputs": [
    {
     "data": {
      "text/html": [
       "<div>\n",
       "<style scoped>\n",
       "    .dataframe tbody tr th:only-of-type {\n",
       "        vertical-align: middle;\n",
       "    }\n",
       "\n",
       "    .dataframe tbody tr th {\n",
       "        vertical-align: top;\n",
       "    }\n",
       "\n",
       "    .dataframe thead th {\n",
       "        text-align: right;\n",
       "    }\n",
       "</style>\n",
       "<table border=\"1\" class=\"dataframe\">\n",
       "  <thead>\n",
       "    <tr style=\"text-align: right;\">\n",
       "      <th></th>\n",
       "      <th>MV</th>\n",
       "      <th>INDUS</th>\n",
       "      <th>NOX</th>\n",
       "      <th>RM</th>\n",
       "      <th>TAX</th>\n",
       "      <th>PT</th>\n",
       "      <th>LSTAT</th>\n",
       "      <th>Unnamed: 7</th>\n",
       "      <th>Unnamed: 8</th>\n",
       "      <th>Unnamed: 9</th>\n",
       "    </tr>\n",
       "  </thead>\n",
       "  <tbody>\n",
       "    <tr>\n",
       "      <th>0</th>\n",
       "      <td>24.0</td>\n",
       "      <td>2.31</td>\n",
       "      <td>53.8</td>\n",
       "      <td>6.575</td>\n",
       "      <td>296</td>\n",
       "      <td>15.3</td>\n",
       "      <td>4.98</td>\n",
       "      <td>NaN</td>\n",
       "      <td>NaN</td>\n",
       "      <td>Subset of Boston housing tract</td>\n",
       "    </tr>\n",
       "    <tr>\n",
       "      <th>1</th>\n",
       "      <td>21.6</td>\n",
       "      <td>7.07</td>\n",
       "      <td>46.9</td>\n",
       "      <td>6.421</td>\n",
       "      <td>242</td>\n",
       "      <td>17.8</td>\n",
       "      <td>9.14</td>\n",
       "      <td>NaN</td>\n",
       "      <td>NaN</td>\n",
       "      <td>data of Harrison and Rubinfeld</td>\n",
       "    </tr>\n",
       "    <tr>\n",
       "      <th>2</th>\n",
       "      <td>34.7</td>\n",
       "      <td>7.07</td>\n",
       "      <td>46.9</td>\n",
       "      <td>7.185</td>\n",
       "      <td>242</td>\n",
       "      <td>17.8</td>\n",
       "      <td>4.03</td>\n",
       "      <td>NaN</td>\n",
       "      <td>NaN</td>\n",
       "      <td>(1978).  Each case is one U.S.</td>\n",
       "    </tr>\n",
       "    <tr>\n",
       "      <th>3</th>\n",
       "      <td>33.4</td>\n",
       "      <td>2.18</td>\n",
       "      <td>45.8</td>\n",
       "      <td>6.998</td>\n",
       "      <td>222</td>\n",
       "      <td>18.7</td>\n",
       "      <td>2.94</td>\n",
       "      <td>NaN</td>\n",
       "      <td>NaN</td>\n",
       "      <td>Census tract in the Boston area.</td>\n",
       "    </tr>\n",
       "    <tr>\n",
       "      <th>4</th>\n",
       "      <td>36.2</td>\n",
       "      <td>2.18</td>\n",
       "      <td>45.8</td>\n",
       "      <td>7.147</td>\n",
       "      <td>222</td>\n",
       "      <td>18.7</td>\n",
       "      <td>5.33</td>\n",
       "      <td>NaN</td>\n",
       "      <td>NaN</td>\n",
       "      <td>NaN</td>\n",
       "    </tr>\n",
       "  </tbody>\n",
       "</table>\n",
       "</div>"
      ],
      "text/plain": [
       "     MV  INDUS   NOX     RM  TAX    PT  LSTAT  Unnamed: 7  Unnamed: 8  \\\n",
       "0  24.0   2.31  53.8  6.575  296  15.3   4.98         NaN         NaN   \n",
       "1  21.6   7.07  46.9  6.421  242  17.8   9.14         NaN         NaN   \n",
       "2  34.7   7.07  46.9  7.185  242  17.8   4.03         NaN         NaN   \n",
       "3  33.4   2.18  45.8  6.998  222  18.7   2.94         NaN         NaN   \n",
       "4  36.2   2.18  45.8  7.147  222  18.7   5.33         NaN         NaN   \n",
       "\n",
       "                         Unnamed: 9  \n",
       "0    Subset of Boston housing tract  \n",
       "1    data of Harrison and Rubinfeld  \n",
       "2    (1978).  Each case is one U.S.  \n",
       "3  Census tract in the Boston area.  \n",
       "4                               NaN  "
      ]
     },
     "execution_count": 49,
     "metadata": {},
     "output_type": "execute_result"
    }
   ],
   "source": [
    "# Load the rel. tab into a dataframe\n",
    "\n",
    "df3=f.parse(\"Sheet1\")\n",
    "\n",
    "df3.head()"
   ]
  },
  {
   "cell_type": "markdown",
   "metadata": {},
   "source": [
    "## Read in html\n",
    "\n",
    "This allows us to read data from webpages in as dataframes. Requires the library \"hrml5lib\", which does not come with Anaconda. To install:\n",
    "1. Start Anaconda Prompt\n",
    "2. Enter \"conda install html5lib\n",
    "3. When asked whether to proceed, enter \"y\"\n",
    "\n",
    "Note: This is effectively webscraping"
   ]
  },
  {
   "cell_type": "code",
   "execution_count": 4,
   "metadata": {},
   "outputs": [
    {
     "name": "stdout",
     "output_type": "stream",
     "text": [
      "[   Name &postal abbs. [1]                          Unnamed: 2_level_0  \\\n",
      "   Name &postal abbs. [1] Name &postal abbs. [1].1 Unnamed: 2_level_1   \n",
      "0                 Alabama                      NaN                 AL   \n",
      "1                  Alaska                      NaN                 AK   \n",
      "2                 Arizona                      NaN                 AZ   \n",
      "3                Arkansas                      NaN                 AR   \n",
      "4              California                      NaN                 CA   \n",
      "5                Colorado                      NaN                 CO   \n",
      "6             Connecticut                      NaN                 CT   \n",
      "7                Delaware                      NaN                 DE   \n",
      "8                 Florida                      NaN                 FL   \n",
      "9                 Georgia                      NaN                 GA   \n",
      "10                 Hawaii                      NaN                 HI   \n",
      "11                  Idaho                      NaN                 ID   \n",
      "12               Illinois                      NaN                 IL   \n",
      "13                Indiana                      NaN                 IN   \n",
      "14                   Iowa                      NaN                 IA   \n",
      "15                 Kansas                      NaN                 KS   \n",
      "16            Kentucky[C]                      NaN                 KY   \n",
      "17              Louisiana                      NaN                 LA   \n",
      "18                  Maine                      NaN                 ME   \n",
      "19               Maryland                      NaN                 MD   \n",
      "20       Massachusetts[C]                      NaN                 MA   \n",
      "21               Michigan                      NaN                 MI   \n",
      "22              Minnesota                      NaN                 MN   \n",
      "23            Mississippi                      NaN                 MS   \n",
      "24               Missouri                      NaN                 MO   \n",
      "25                Montana                      NaN                 MT   \n",
      "26               Nebraska                      NaN                 NE   \n",
      "27                 Nevada                      NaN                 NV   \n",
      "28          New Hampshire                      NaN                 NH   \n",
      "29             New Jersey                      NaN                 NJ   \n",
      "30             New Mexico                      NaN                 NM   \n",
      "31               New York                      NaN                 NY   \n",
      "32         North Carolina                      NaN                 NC   \n",
      "33           North Dakota                      NaN                 ND   \n",
      "34                   Ohio                      NaN                 OH   \n",
      "35               Oklahoma                      NaN                 OK   \n",
      "36                 Oregon                      NaN                 OR   \n",
      "37        Pennsylvania[C]                      NaN                 PA   \n",
      "38           Rhode Island                      NaN                 RI   \n",
      "39         South Carolina                      NaN                 SC   \n",
      "40           South Dakota                      NaN                 SD   \n",
      "41              Tennessee                      NaN                 TN   \n",
      "42                  Texas                      NaN                 TX   \n",
      "43                   Utah                      NaN                 UT   \n",
      "44                Vermont                      NaN                 VT   \n",
      "45            Virginia[C]                      NaN                 VA   \n",
      "46             Washington                      NaN                 WA   \n",
      "47          West Virginia                      NaN                 WV   \n",
      "48              Wisconsin                      NaN                 WI   \n",
      "49                Wyoming                      NaN                 WY   \n",
      "\n",
      "            Cities                            Established[A] Population[B][3]  \\\n",
      "           Capital Largest (by population)[5] Established[A] Population[B][3]   \n",
      "0       Montgomery                 Birmingham   Dec 14, 1819          4903185   \n",
      "1           Juneau                  Anchorage    Jan 3, 1959           731545   \n",
      "2          Phoenix                    Phoenix   Feb 14, 1912          7278717   \n",
      "3      Little Rock                Little Rock   Jun 15, 1836          3017804   \n",
      "4       Sacramento                Los Angeles    Sep 9, 1850         39512223   \n",
      "5           Denver                     Denver    Aug 1, 1876          5758736   \n",
      "6         Hartford                 Bridgeport    Jan 9, 1788          3565278   \n",
      "7            Dover                 Wilmington    Dec 7, 1787           973764   \n",
      "8      Tallahassee               Jacksonville    Mar 3, 1845         21477737   \n",
      "9          Atlanta                    Atlanta    Jan 2, 1788         10617423   \n",
      "10        Honolulu                   Honolulu   Aug 21, 1959          1415872   \n",
      "11           Boise                      Boise    Jul 3, 1890          1787065   \n",
      "12     Springfield                    Chicago    Dec 3, 1818         12671821   \n",
      "13    Indianapolis               Indianapolis   Dec 11, 1816          6732219   \n",
      "14      Des Moines                 Des Moines   Dec 28, 1846          3155070   \n",
      "15          Topeka                    Wichita   Jan 29, 1861          2913314   \n",
      "16       Frankfort                 Louisville    Jun 1, 1792          4467673   \n",
      "17     Baton Rouge                New Orleans   Apr 30, 1812          4648794   \n",
      "18         Augusta                   Portland   Mar 15, 1820          1344212   \n",
      "19       Annapolis                  Baltimore   Apr 28, 1788          6045680   \n",
      "20          Boston                     Boston    Feb 6, 1788          6892503   \n",
      "21         Lansing                    Detroit   Jan 26, 1837          9986857   \n",
      "22        St. Paul                Minneapolis   May 11, 1858          5639632   \n",
      "23         Jackson                    Jackson   Dec 10, 1817          2976149   \n",
      "24  Jefferson City                Kansas City   Aug 10, 1821          6137428   \n",
      "25          Helena                   Billings    Nov 8, 1889          1068778   \n",
      "26         Lincoln                      Omaha    Mar 1, 1867          1934408   \n",
      "27     Carson City                  Las Vegas   Oct 31, 1864          3080156   \n",
      "28         Concord                 Manchester   Jun 21, 1788          1359711   \n",
      "29         Trenton                     Newark   Dec 18, 1787          8882190   \n",
      "30        Santa Fe                Albuquerque    Jan 6, 1912          2096829   \n",
      "31          Albany                   New York   Jul 26, 1788         19453561   \n",
      "32         Raleigh                  Charlotte   Nov 21, 1789         10488084   \n",
      "33        Bismarck                      Fargo    Nov 2, 1889           762062   \n",
      "34        Columbus                   Columbus    Mar 1, 1803         11689100   \n",
      "35   Oklahoma City              Oklahoma City   Nov 16, 1907          3956971   \n",
      "36           Salem                   Portland   Feb 14, 1859          4217737   \n",
      "37      Harrisburg               Philadelphia   Dec 12, 1787         12801989   \n",
      "38      Providence                 Providence   May 29, 1790          1059361   \n",
      "39        Columbia                 Charleston   May 23, 1788          5148714   \n",
      "40          Pierre                Sioux Falls    Nov 2, 1889           884659   \n",
      "41       Nashville                  Nashville    Jun 1, 1796          6829174   \n",
      "42          Austin                    Houston   Dec 29, 1845         28995881   \n",
      "43  Salt Lake City             Salt Lake City    Jan 4, 1896          3205958   \n",
      "44      Montpelier                 Burlington    Mar 4, 1791           623989   \n",
      "45        Richmond             Virginia Beach   Jun 25, 1788          8535519   \n",
      "46         Olympia                    Seattle   Nov 11, 1889          7614893   \n",
      "47      Charleston                 Charleston   Jun 20, 1863          1792147   \n",
      "48         Madison                  Milwaukee   May 29, 1848          5822434   \n",
      "49        Cheyenne                   Cheyenne   Jul 10, 1890           578759   \n",
      "\n",
      "   Total area[4]          Land area[4]          Water area[4]          \\\n",
      "             mi2      km2          mi2      km2           mi2     km2   \n",
      "0          52420   135767        50645   131171          1775    4597   \n",
      "1         665384  1723337       570641  1477953         94743  245384   \n",
      "2         113990   295234       113594   294207           396    1026   \n",
      "3          53179   137732        52035   134771          1143    2961   \n",
      "4         163695   423967       155779   403466          7916   20501   \n",
      "5         104094   269601       103642   268431           452    1170   \n",
      "6           5543    14357         4842    12542           701    1816   \n",
      "7           2489     6446         1949     5047           540    1399   \n",
      "8          65758   170312        53625   138887         12133   31424   \n",
      "9          59425   153910        57513   148959          1912    4951   \n",
      "10         10932    28313         6423    16635          4509   11678   \n",
      "11         83569   216443        82643   214045           926    2398   \n",
      "12         57914   149995        55519   143793          2395    6202   \n",
      "13         36420    94326        35826    92789           593    1537   \n",
      "14         56273   145746        55857   144669           416    1077   \n",
      "15         82278   213100        81759   211754           520    1346   \n",
      "16         40408   104656        39486   102269           921    2387   \n",
      "17         52378   135659        43204   111898          9174   23761   \n",
      "18         35380    91633        30843    79883          4537   11750   \n",
      "19         12406    32131         9707    25142          2699    6990   \n",
      "20         10554    27336         7800    20202          2754    7134   \n",
      "21         96714   250487        56539   146435         40175  104052   \n",
      "22         86936   225163        79627   206232          7309   18930   \n",
      "23         48432   125438        46923   121531          1508    3907   \n",
      "24         69707   180540        68742   178040           965    2501   \n",
      "25        147040   380831       145546   376962          1494    3869   \n",
      "26         77348   200330        76824   198974           524    1356   \n",
      "27        110572   286380       109781   284332           791    2048   \n",
      "28          9349    24214         8953    23187           397    1027   \n",
      "29          8723    22591         7354    19047          1368    3544   \n",
      "30        121590   314917       121298   314161           292     757   \n",
      "31         54555   141297        47126   122057          7429   19240   \n",
      "32         53819   139391        48618   125920          5201   13471   \n",
      "33         70698   183108        69001   178711          1698    4397   \n",
      "34         44826   116098        40861   105829          3965   10269   \n",
      "35         69899   181037        68595   177660          1304    3377   \n",
      "36         98379   254799        95988   248608          2391    6191   \n",
      "37         46054   119280        44743   115883          1312    3397   \n",
      "38          1545     4001         1034     2678           511    1324   \n",
      "39         32020    82933        30061    77857          1960    5076   \n",
      "40         77116   199729        75811   196350          1305    3379   \n",
      "41         42144   109153        41235   106798           909    2355   \n",
      "42        268596   695662       261232   676587          7365   19075   \n",
      "43         84897   219882        82170   212818          2727    7064   \n",
      "44          9616    24906         9217    23871           400    1035   \n",
      "45         42775   110787        39490   102279          3285    8508   \n",
      "46         71298   184661        66456   172119          4842   12542   \n",
      "47         24230    62756        24038    62259           192     497   \n",
      "48         65496   169635        54158   140268         11339   29367   \n",
      "49         97813   253335        97093   251470           720    1864   \n",
      "\n",
      "   Numberof Reps.  \n",
      "   Numberof Reps.  \n",
      "0               7  \n",
      "1               1  \n",
      "2               9  \n",
      "3               4  \n",
      "4              53  \n",
      "5               7  \n",
      "6               5  \n",
      "7               1  \n",
      "8              27  \n",
      "9              14  \n",
      "10              2  \n",
      "11              2  \n",
      "12             18  \n",
      "13              9  \n",
      "14              4  \n",
      "15              4  \n",
      "16              6  \n",
      "17              6  \n",
      "18              2  \n",
      "19              8  \n",
      "20              9  \n",
      "21             14  \n",
      "22              8  \n",
      "23              4  \n",
      "24              8  \n",
      "25              1  \n",
      "26              3  \n",
      "27              4  \n",
      "28              2  \n",
      "29             12  \n",
      "30              3  \n",
      "31             27  \n",
      "32             13  \n",
      "33              1  \n",
      "34             16  \n",
      "35              5  \n",
      "36              5  \n",
      "37             18  \n",
      "38              2  \n",
      "39              7  \n",
      "40              1  \n",
      "41              9  \n",
      "42             36  \n",
      "43              4  \n",
      "44              1  \n",
      "45             11  \n",
      "46             10  \n",
      "47              3  \n",
      "48              8  \n",
      "49              1  ]\n"
     ]
    }
   ],
   "source": [
    "import pandas as pd\n",
    "\n",
    "us_states=pd.read_html(\"https://simple.wikipedia.org/wiki/List_of_U.S._states\")\n",
    "\n",
    "print(us_states)"
   ]
  },
  {
   "cell_type": "code",
   "execution_count": 5,
   "metadata": {},
   "outputs": [
    {
     "name": "stdout",
     "output_type": "stream",
     "text": [
      "<class 'list'>\n"
     ]
    }
   ],
   "source": [
    "print(type(us_states)) # This is a list of dataframes. I need to grab the dataframe at index 0 & store as variable"
   ]
  },
  {
   "cell_type": "code",
   "execution_count": 9,
   "metadata": {},
   "outputs": [
    {
     "name": "stdout",
     "output_type": "stream",
     "text": [
      "  Name &postal abbs. [1]                          Unnamed: 2_level_0  \\\n",
      "  Name &postal abbs. [1] Name &postal abbs. [1].1 Unnamed: 2_level_1   \n",
      "0                Alabama                      NaN                 AL   \n",
      "1                 Alaska                      NaN                 AK   \n",
      "2                Arizona                      NaN                 AZ   \n",
      "3               Arkansas                      NaN                 AR   \n",
      "4             California                      NaN                 CA   \n",
      "\n",
      "        Cities                            Established[A] Population[B][3]  \\\n",
      "       Capital Largest (by population)[5] Established[A] Population[B][3]   \n",
      "0   Montgomery                 Birmingham   Dec 14, 1819          4903185   \n",
      "1       Juneau                  Anchorage    Jan 3, 1959           731545   \n",
      "2      Phoenix                    Phoenix   Feb 14, 1912          7278717   \n",
      "3  Little Rock                Little Rock   Jun 15, 1836          3017804   \n",
      "4   Sacramento                Los Angeles    Sep 9, 1850         39512223   \n",
      "\n",
      "  Total area[4]          Land area[4]          Water area[4]          \\\n",
      "            mi2      km2          mi2      km2           mi2     km2   \n",
      "0         52420   135767        50645   131171          1775    4597   \n",
      "1        665384  1723337       570641  1477953         94743  245384   \n",
      "2        113990   295234       113594   294207           396    1026   \n",
      "3         53179   137732        52035   134771          1143    2961   \n",
      "4        163695   423967       155779   403466          7916   20501   \n",
      "\n",
      "  Numberof Reps.  \n",
      "  Numberof Reps.  \n",
      "0              7  \n",
      "1              1  \n",
      "2              9  \n",
      "3              4  \n",
      "4             53  \n"
     ]
    }
   ],
   "source": [
    "df4=us_states[0]\n",
    "\n",
    "print(df4.head())"
   ]
  },
  {
   "cell_type": "markdown",
   "metadata": {},
   "source": [
    "### What if I have more than one table on the website?"
   ]
  },
  {
   "cell_type": "code",
   "execution_count": 10,
   "metadata": {},
   "outputs": [
    {
     "data": {
      "text/html": [
       "<div>\n",
       "<style scoped>\n",
       "    .dataframe tbody tr th:only-of-type {\n",
       "        vertical-align: middle;\n",
       "    }\n",
       "\n",
       "    .dataframe tbody tr th {\n",
       "        vertical-align: top;\n",
       "    }\n",
       "\n",
       "    .dataframe thead th {\n",
       "        text-align: right;\n",
       "    }\n",
       "</style>\n",
       "<table border=\"1\" class=\"dataframe\">\n",
       "  <thead>\n",
       "    <tr style=\"text-align: right;\">\n",
       "      <th></th>\n",
       "      <th>Site</th>\n",
       "      <th>Site.1</th>\n",
       "      <th>Location</th>\n",
       "      <th>Regions</th>\n",
       "      <th>UNESCO data</th>\n",
       "      <th>Period</th>\n",
       "      <th>Description</th>\n",
       "      <th>Ref</th>\n",
       "    </tr>\n",
       "  </thead>\n",
       "  <tbody>\n",
       "    <tr>\n",
       "      <th>0</th>\n",
       "      <td>Baroque Churches of the Philippines: San Agust...</td>\n",
       "      <td>NaN</td>\n",
       "      <td>City of Manila; Ilocos Sur; Ilocos Norte; Iloilo</td>\n",
       "      <td>Manila; Ilocandia; Western Visayas</td>\n",
       "      <td>1993 (inscription), 2013 (minor boundary modif...</td>\n",
       "      <td>16th century</td>\n",
       "      <td>All of the four baroque churches have been dec...</td>\n",
       "      <td>[5]</td>\n",
       "    </tr>\n",
       "    <tr>\n",
       "      <th>1</th>\n",
       "      <td>Tubbataha Reefs Natural Park</td>\n",
       "      <td>NaN</td>\n",
       "      <td>Palawan</td>\n",
       "      <td>Mimaropa</td>\n",
       "      <td>1993 (inscription), 2009 (extension); vii, ix, x</td>\n",
       "      <td>Pleistocene Epoch</td>\n",
       "      <td>The site is an ASEAN Heritage Park, and a Rams...</td>\n",
       "      <td>[6]</td>\n",
       "    </tr>\n",
       "    <tr>\n",
       "      <th>2</th>\n",
       "      <td>Rice Terraces of the Philippine Cordilleras: B...</td>\n",
       "      <td>NaN</td>\n",
       "      <td>Ifugao</td>\n",
       "      <td>Cordillera</td>\n",
       "      <td>1995 (inscription); iii, iv, v</td>\n",
       "      <td>16th century</td>\n",
       "      <td>The inscription includes 5 properties, namely,...</td>\n",
       "      <td>[7]</td>\n",
       "    </tr>\n",
       "    <tr>\n",
       "      <th>3</th>\n",
       "      <td>Historic City of Vigan</td>\n",
       "      <td>NaN</td>\n",
       "      <td>Ilocos Sur</td>\n",
       "      <td>Ilocandia</td>\n",
       "      <td>1999 (inscription); ii, iv</td>\n",
       "      <td>16th century</td>\n",
       "      <td>The site is also one of the New7Wonders Cities...</td>\n",
       "      <td>[8]</td>\n",
       "    </tr>\n",
       "    <tr>\n",
       "      <th>4</th>\n",
       "      <td>Puerto Princesa Subterranean River National Park</td>\n",
       "      <td>NaN</td>\n",
       "      <td>Palawan</td>\n",
       "      <td>Mimaropa</td>\n",
       "      <td>1999 (inscription); vii, x</td>\n",
       "      <td>Pleistocene Epoch</td>\n",
       "      <td>The site is one of the New7Wonders of Nature, ...</td>\n",
       "      <td>[9]</td>\n",
       "    </tr>\n",
       "  </tbody>\n",
       "</table>\n",
       "</div>"
      ],
      "text/plain": [
       "                                                Site  Site.1  \\\n",
       "0  Baroque Churches of the Philippines: San Agust...     NaN   \n",
       "1                       Tubbataha Reefs Natural Park     NaN   \n",
       "2  Rice Terraces of the Philippine Cordilleras: B...     NaN   \n",
       "3                             Historic City of Vigan     NaN   \n",
       "4   Puerto Princesa Subterranean River National Park     NaN   \n",
       "\n",
       "                                           Location  \\\n",
       "0  City of Manila; Ilocos Sur; Ilocos Norte; Iloilo   \n",
       "1                                           Palawan   \n",
       "2                                            Ifugao   \n",
       "3                                        Ilocos Sur   \n",
       "4                                           Palawan   \n",
       "\n",
       "                              Regions  \\\n",
       "0  Manila; Ilocandia; Western Visayas   \n",
       "1                            Mimaropa   \n",
       "2                          Cordillera   \n",
       "3                           Ilocandia   \n",
       "4                            Mimaropa   \n",
       "\n",
       "                                         UNESCO data             Period  \\\n",
       "0  1993 (inscription), 2013 (minor boundary modif...       16th century   \n",
       "1   1993 (inscription), 2009 (extension); vii, ix, x  Pleistocene Epoch   \n",
       "2                     1995 (inscription); iii, iv, v       16th century   \n",
       "3                         1999 (inscription); ii, iv       16th century   \n",
       "4                         1999 (inscription); vii, x  Pleistocene Epoch   \n",
       "\n",
       "                                         Description  Ref  \n",
       "0  All of the four baroque churches have been dec...  [5]  \n",
       "1  The site is an ASEAN Heritage Park, and a Rams...  [6]  \n",
       "2  The inscription includes 5 properties, namely,...  [7]  \n",
       "3  The site is also one of the New7Wonders Cities...  [8]  \n",
       "4  The site is one of the New7Wonders of Nature, ...  [9]  "
      ]
     },
     "execution_count": 10,
     "metadata": {},
     "output_type": "execute_result"
    }
   ],
   "source": [
    "# This site contains 2 lists of Philippines world heritage sites\n",
    "\n",
    "whs=pd.read_html(\"https://en.wikipedia.org/wiki/List_of_World_Heritage_Sites_in_the_Philippines\")\n",
    "\n",
    "# To get the first table:\n",
    "df5=whs[0]\n",
    "\n",
    "df5.head()"
   ]
  },
  {
   "cell_type": "code",
   "execution_count": 11,
   "metadata": {},
   "outputs": [
    {
     "name": "stdout",
     "output_type": "stream",
     "text": [
      "                 Type (criteria)  \\\n",
      "0          Natural: (vii)(ix)(x)   \n",
      "1  Cultural: (i)(iii)(iv)(v)(vi)   \n",
      "2                          Mixed   \n",
      "3         Cultural: (iii)(iv)(v)   \n",
      "4           Natural: (vii)(viii)   \n",
      "\n",
      "                                                Site           Location  \\\n",
      "0                              Apo Reef Natural Park           Sulu Sea   \n",
      "1  Baroque Churches of the Philippines (Extension...  Various Locations   \n",
      "2         Batanes Protected Landscapes and Seascapes            Batanes   \n",
      "3                         Butuan Archeological Sites   Agusan del Norte   \n",
      "4                   Chocolate Hills Natural Monument              Bohol   \n",
      "\n",
      "                         Period  \\\n",
      "0             Pleistocene Epoch   \n",
      "1        18th to 19th centuries   \n",
      "2  Pleistocene Epoch and 100 AD   \n",
      "3                  10th century   \n",
      "4             Pleistocene Epoch   \n",
      "\n",
      "                                         Description  Image   Ref  \n",
      "0  The site is the second biggest producer of juv...    NaN  [12]  \n",
      "1  All five baroque churches have been declared a...    NaN  [13]  \n",
      "2  The Mahatao Church of Batanes is a declared Na...    NaN  [14]  \n",
      "3  The site exemplified and concretized the capab...    NaN  [15]  \n",
      "4  The site is the focal property of the proposed...    NaN  [16]  \n"
     ]
    }
   ],
   "source": [
    "# To get the 2nd table:\n",
    "\n",
    "df6=whs[1]\n",
    "\n",
    "print(df6.head())"
   ]
  },
  {
   "cell_type": "code",
   "execution_count": null,
   "metadata": {},
   "outputs": [],
   "source": []
  }
 ],
 "metadata": {
  "kernelspec": {
   "display_name": "Python 3",
   "language": "python",
   "name": "python3"
  },
  "language_info": {
   "codemirror_mode": {
    "name": "ipython",
    "version": 3
   },
   "file_extension": ".py",
   "mimetype": "text/x-python",
   "name": "python",
   "nbconvert_exporter": "python",
   "pygments_lexer": "ipython3",
   "version": "3.8.5"
  }
 },
 "nbformat": 4,
 "nbformat_minor": 4
}
