{
 "cells": [
  {
   "cell_type": "markdown",
   "metadata": {},
   "source": [
    "# What is a class?\n",
    "\n",
    "- a blueprint for objects\n",
    "- contain methods (functions) & attributes\n",
    "- e.g. in a class \"user\", every user has:\n",
    "        - attributes (e.g. username, password, email, profile picture)\n",
    "        - methods/ functionality (e.g. logout mathod, change profile picture method, change password method. etc.)\n",
    "\n",
    "- a class is the cookie cutter"
   ]
  },
  {
   "cell_type": "markdown",
   "metadata": {},
   "source": [
    "# What is an instance?\n",
    "\n",
    "- an __object__ that is construed from the class, i.e. the cookie cutter\n",
    "- say every user created from class \"user\" is an instance"
   ]
  },
  {
   "cell_type": "markdown",
   "metadata": {},
   "source": [
    "# Why OOP?\n",
    "\n",
    "- is a way of structuring/ organising things\n",
    "- the goal of OOP is to __encapsulate__ code in hierarchical groupings using classes\n",
    "- i.e. allows us to take a big programme & encapsulate into different classes\n",
    "- e.g. if we were building a poker game, we might break down the code into classes such as:\n",
    "        - Game\n",
    "        - Player\n",
    "        - Card\n",
    "        - Deck\n",
    "        - Etc\n",
    "- challenge: figure out what needs to be a class"
   ]
  },
  {
   "cell_type": "markdown",
   "metadata": {},
   "source": [
    "# Private & public\n",
    "\n",
    "- Certain objects/ attributes/ methods) in a class don't need to be exposed (private)\n",
    "- Say when I make a poker game and I call a class \"deck\", I don't need access to the full list of cards, I just need access to methods like \"shuffle cards\", \"deal cards\" etc. (public)\n",
    "- in Python, there is no way of truly making things private. Can use _ to indicate to other developers that an object/ attribute/ method are private, e.g. _cards\n",
    "- __Encapsulation__ is grouping together public & private attributes and methods into a programmatic class making __abstraction__ possible\n",
    "- __Abstraction__ means exposing only \"relevant\" data in a class interface & hiding private attributes & methods (i.e. the inner workings) from the user\n",
    "- e.g. in a poker game, hide the cards & provide interfaces to shuffle, deal cards etc.\n",
    "- e.g. when steering a car, don't need to know how the inner workings of the car work, just need to steer the wheel (interface)\n"
   ]
  },
  {
   "cell_type": "markdown",
   "metadata": {},
   "source": [
    "# Create classes & instances\n",
    "\n",
    "## Creating a user class for a poker game"
   ]
  },
  {
   "cell_type": "code",
   "execution_count": null,
   "metadata": {},
   "outputs": [],
   "source": [
    "# Refer to Pycharm"
   ]
  },
  {
   "cell_type": "markdown",
   "metadata": {},
   "source": [
    "## Instance attributes\n",
    "\n",
    "### What is init and self?"
   ]
  },
  {
   "cell_type": "code",
   "execution_count": 1,
   "metadata": {},
   "outputs": [
    {
     "name": "stdout",
     "output_type": "stream",
     "text": [
      "__init__ is being called\n",
      "__init__ is being called\n",
      "__init__ is being called\n"
     ]
    }
   ],
   "source": [
    "# __init__ is a method that is called automatically every time a class object is initialised\n",
    "# self if an attribute that is passed into __init__\n",
    "\n",
    "# Proof that __init__ is called automatically when an object is created\n",
    "\n",
    "class Car:\n",
    "    \n",
    "    def __init__(self):\n",
    "        print(\"__init__ is being called\")\n",
    "\n",
    "# Create 3 instances of the class\n",
    "        \n",
    "c1=Car()\n",
    "c2=Car()\n",
    "C3=Car()"
   ]
  },
  {
   "cell_type": "code",
   "execution_count": 2,
   "metadata": {},
   "outputs": [
    {
     "name": "stdout",
     "output_type": "stream",
     "text": [
      "__init__ is being called\n",
      "blue\n",
      "180\n",
      "__init__ is being called\n",
      "white\n",
      "200\n",
      "__init__ is being called\n",
      "red\n",
      "150\n"
     ]
    }
   ],
   "source": [
    "# After the self attribute, I can enter other attributes that an object of the class should have. Add these as arguments into the\n",
    "# init function after \"self\"\n",
    "\n",
    "class Car:\n",
    "    \n",
    "    def __init__(self, colour, speed):\n",
    "        print(\"__init__ is being called\")\n",
    "        print(colour)\n",
    "        print(speed)\n",
    "\n",
    "# Create 3 instances of the class\n",
    "        \n",
    "c1=Car(\"blue\", 180)\n",
    "c2=Car(\"white\", 200)\n",
    "C3=Car(\"red\", 150)"
   ]
  },
  {
   "cell_type": "code",
   "execution_count": 3,
   "metadata": {},
   "outputs": [
    {
     "ename": "AttributeError",
     "evalue": "'Car' object has no attribute 'colour'",
     "output_type": "error",
     "traceback": [
      "\u001b[1;31m---------------------------------------------------------------------------\u001b[0m",
      "\u001b[1;31mAttributeError\u001b[0m                            Traceback (most recent call last)",
      "\u001b[1;32m<ipython-input-3-e2cde60fed5f>\u001b[0m in \u001b[0;36m<module>\u001b[1;34m\u001b[0m\n\u001b[0;32m      1\u001b[0m \u001b[1;31m# Now I want to print the colour of c1\u001b[0m\u001b[1;33m\u001b[0m\u001b[1;33m\u001b[0m\u001b[1;33m\u001b[0m\u001b[0m\n\u001b[0;32m      2\u001b[0m \u001b[1;33m\u001b[0m\u001b[0m\n\u001b[1;32m----> 3\u001b[1;33m \u001b[0mc1\u001b[0m\u001b[1;33m.\u001b[0m\u001b[0mcolour\u001b[0m\u001b[1;33m\u001b[0m\u001b[1;33m\u001b[0m\u001b[0m\n\u001b[0m",
      "\u001b[1;31mAttributeError\u001b[0m: 'Car' object has no attribute 'colour'"
     ]
    }
   ],
   "source": [
    "# Now I want to access the colour of c1\n",
    "\n",
    "c1.colour"
   ]
  },
  {
   "cell_type": "code",
   "execution_count": null,
   "metadata": {},
   "outputs": [],
   "source": [
    "# Why am I getting this error?\n",
    "\n",
    "class Car:\n",
    "    \n",
    "    def __init__(self, colour, speed): # I have provided the attributes \"speed\" & \"colour\" but I have not assigned these as attributes in the class Car\n",
    "        print(\"__init__ is being called\")\n",
    "        print(colour)\n",
    "        print(speed)"
   ]
  },
  {
   "cell_type": "code",
   "execution_count": null,
   "metadata": {},
   "outputs": [],
   "source": [
    "# I need to assign \"colour\" to a \"colour\" attribute and \"speed\" to a \"speed\" attribute. I can do this using \"self\". \"Self\" is the current object\n",
    "\n",
    "class Car:\n",
    "    \n",
    "    def __init__(self, colour, speed):\n",
    "        self.colour=colour\n",
    "        self.speed=speed\n",
    "#         print(\"__init__ is being called\")\n",
    "#         print(colour)\n",
    "#         print(speed)\n",
    "        \n",
    "c1=Car(\"blue\", 180)\n",
    "c2=Car(\"white\", 200)\n",
    "\n",
    "print(c1.colour)"
   ]
  },
  {
   "cell_type": "markdown",
   "metadata": {},
   "source": [
    "### Whenever I create a new class, the first attribute I need to call is \"self\"\n",
    "\n",
    "It is called \"self\" by convention, but I could call it anything\n",
    "\n",
    "\"Self\" refers to the current instance, i.e. when I create c1, it refers to c1, when I create c2, it refers to c2 and so on\n"
   ]
  },
  {
   "cell_type": "code",
   "execution_count": 8,
   "metadata": {},
   "outputs": [
    {
     "name": "stdout",
     "output_type": "stream",
     "text": [
      "blue\n"
     ]
    }
   ],
   "source": [
    "class Car:\n",
    "    \n",
    "    def __init__(abc, colour, speed):\n",
    "        abc.colour=colour\n",
    "        abc.speed=speed\n",
    "        \n",
    "c1=Car(\"blue\", 180)\n",
    "c2=Car(\"white\", 200)\n",
    "\n",
    "print(c1.colour)"
   ]
  },
  {
   "cell_type": "markdown",
   "metadata": {},
   "source": [
    "### Note that when I initiate an object of the class, I need to provide values for the \"colour\" & \"speed\" argument but not for \"self\". This is automatically provided."
   ]
  },
  {
   "cell_type": "markdown",
   "metadata": {},
   "source": [
    "## Instance attributes\n",
    "\n",
    ".... Defined on each instance of the class.\n",
    "\n",
    "See PyCharm\n",
    "\n",
    "## Class attributes\n",
    "\n",
    "... Defined directly on a class & shared by all instances on the class & the class itself\n",
    "\n",
    "... Used far less often than instance methods\n",
    "\n",
    "See PyCharm"
   ]
  },
  {
   "cell_type": "markdown",
   "metadata": {},
   "source": [
    "## Instant methods\n",
    "\n",
    "See PyCharm\n",
    "\n",
    "\n",
    "## Class methods\n",
    "\n",
    "... are a lot rarer than instant methods\n",
    "...Are concerned with the class itself, not the instance\n",
    "... Used with @classmethod decorator\n",
    "\n",
    "See PyCharm"
   ]
  },
  {
   "cell_type": "code",
   "execution_count": null,
   "metadata": {},
   "outputs": [],
   "source": []
  }
 ],
 "metadata": {
  "kernelspec": {
   "display_name": "Python 3",
   "language": "python",
   "name": "python3"
  },
  "language_info": {
   "codemirror_mode": {
    "name": "ipython",
    "version": 3
   },
   "file_extension": ".py",
   "mimetype": "text/x-python",
   "name": "python",
   "nbconvert_exporter": "python",
   "pygments_lexer": "ipython3",
   "version": "3.8.5"
  }
 },
 "nbformat": 4,
 "nbformat_minor": 4
}
